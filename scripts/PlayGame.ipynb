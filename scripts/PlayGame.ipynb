{
 "cells": [
  {
   "cell_type": "code",
   "execution_count": 1,
   "metadata": {},
   "outputs": [],
   "source": [
    "import json\n",
    "from collections import defaultdict, namedtuple, OrderedDict\n",
    "import numpy as np\n",
    "import os, shutil\n",
    "import subprocess"
   ]
  },
  {
   "cell_type": "code",
   "execution_count": 2,
   "metadata": {},
   "outputs": [],
   "source": [
    "import textworld"
   ]
  },
  {
   "cell_type": "code",
   "execution_count": 3,
   "metadata": {},
   "outputs": [],
   "source": [
    "import networkx as nx\n",
    "from textworld.generator import compile_game, make_map\n",
    "from textworld.generator.game import GameOptions\n",
    "from textworld.generator.graph_networks import shortest_path, plot_graph"
   ]
  },
  {
   "cell_type": "code",
   "execution_count": 4,
   "metadata": {},
   "outputs": [],
   "source": [
    "from textworld.render.graph import build_graph_from_facts, show_graph\n",
    "import matplotlib.pyplot as plt"
   ]
  },
  {
   "cell_type": "code",
   "execution_count": 5,
   "metadata": {},
   "outputs": [],
   "source": [
    "import TextWorldUtils"
   ]
  },
  {
   "cell_type": "code",
   "execution_count": 6,
   "metadata": {},
   "outputs": [],
   "source": [
    "TW_TRAINING_DIR = '/home/guntis/work/github/0_magd3/CodaLab/train'\n",
    "Z8_MAP_DIR = TW_TRAINING_DIR+\"/../z8_maps\"\n",
    "XTRACT_DIR = TW_TRAINING_DIR+\"/../extracted_data\""
   ]
  },
  {
   "cell_type": "code",
   "execution_count": 7,
   "metadata": {},
   "outputs": [
    {
     "data": {
      "image/png": "[encoded data removed]",
      "text/plain": [
       "<Figure size 432x288 with 1 Axes>"
      ]
     },
     "metadata": {},
     "output_type": "display_data"
    }
   ],
   "source": [
    "g10 = make_map(10, size=(4,3))\n",
    "plot_graph(g10)"
   ]
  },
  {
   "cell_type": "code",
   "execution_count": 8,
   "metadata": {},
   "outputs": [
    {
     "name": "stdout",
     "output_type": "stream",
     "text": [
      "(0, 0) {'name': 'r_0'}\n",
      "(0, 1) {'name': 'r_1'}\n",
      "(1, 1) {'name': 'r_2'}\n",
      "(1, 0) {'name': 'r_3'}\n",
      "(0, 2) {'name': 'r_4'}\n",
      "(2, 1) {'name': 'r_5'}\n",
      "(1, 2) {'name': 'r_6'}\n",
      "(2, 2) {'name': 'r_7'}\n",
      "(2, 0) {'name': 'r_8'}\n",
      "(3, 0) {'name': 'r_9'}\n",
      "[((0, 0), (0, 1), OrderedDict([('has_door', False), ('door_state', None), ('door_name', None)])), ((0, 0), (1, 0), OrderedDict([('has_door', False), ('door_state', None), ('door_name', None)])), ((0, 1), (1, 1), OrderedDict([('has_door', True), ('door_state', 'closed'), ('door_name', 'd_2'), ('weight', 0.1)])), ((0, 1), (0, 2), OrderedDict([('has_door', False), ('door_state', None), ('door_name', None)])), ((1, 1), (2, 1), OrderedDict([('has_door', False), ('door_state', None), ('door_name', None)])), ((1, 1), (1, 2), OrderedDict([('has_door', True), ('door_state', 'open'), ('door_name', 'd_0'), ('weight', 0.1)])), ((1, 1), (1, 0), OrderedDict([('has_door', True), ('door_state', 'closed'), ('door_name', 'd_1'), ('weight', 0.1)])), ((1, 0), (2, 0), OrderedDict([('has_door', True), ('door_state', 'open'), ('door_name', 'd_3'), ('weight', 0.1)])), ((1, 2), (2, 2), OrderedDict([('has_door', False), ('door_state', None), ('door_name', None)])), ((2, 0), (3, 0), OrderedDict([('has_door', False), ('door_state', None), ('door_name', None)]))]\n"
     ]
    }
   ],
   "source": [
    "for n, d in g10.nodes.items():\n",
    "    print(n, d)\n",
    "print(g10.edges.data())"
   ]
  },
  {
   "cell_type": "code",
   "execution_count": 9,
   "metadata": {},
   "outputs": [
    {
     "name": "stdout",
     "output_type": "stream",
     "text": [
      "[(0, 0), (0, 1), (1, 1), (1, 0), (0, 2), (2, 1), (1, 2), (2, 2), (2, 0), (3, 0)] [(0.5, 1.0), (1.0, 0.5)] [(1.0, 1.5), (1.5, 0.0)]\n",
      "('r_0', 'east') -> ('r_3', 'east') -> ('r_8', 'east') -> ('r_9', '.')\n"
     ]
    },
    {
     "data": {
      "image/png": "[encoded data removed]",
      "text/plain": [
       "<Figure size 432x288 with 1 Axes>"
      ]
     },
     "metadata": {},
     "output_type": "display_data"
    }
   ],
   "source": [
    "def name_for_node(G, n):\n",
    "    return G.nodes.data()[n]['name']\n",
    "\n",
    "def print_shortest_path(G, n0, n2):\n",
    "    path = nx.algorithms.shortest_path(G, n0, n2)\n",
    "    # print(\"n0:\",(name_for_node(G,n0),n0), \"n2:\", name_for_node(G, n2), n2)\n",
    "    names = map(lambda n: name_for_node(G, n), path)\n",
    "    # print(list(names))\n",
    "    path_w_names = zip(names, shortest_path(G, n0, n2)+['.'])\n",
    "    print(\" -> \".join(list(map(str,path_w_names))))\n",
    "\n",
    "def get_label(n, data):\n",
    "    door_state = data.get('door_state', '')\n",
    "    if door_state:\n",
    "        xtra = f\"\\n[{door_state}]\"\n",
    "    else:\n",
    "        xtra = f\"\\n{n[0]}, {n[1]}\"  # coords\n",
    "        \n",
    "    return f\"{data['name']}{xtra}\"\n",
    "\n",
    "def is_door(data):\n",
    "    return 'door_state' in data\n",
    "#     return data['name'].startswith('d_')\n",
    "\n",
    "def is_unknown(data):\n",
    "    return data['name'].startswith('Unkn')\n",
    "\n",
    "def is_current(data, current_pos):\n",
    "    if current_pos is None:\n",
    "        return False\n",
    "    return data['name'] == current_pos\n",
    "\n",
    "\n",
    "def door_is_open(data):\n",
    "    door_state = data.get('door_state', '')\n",
    "    return door_state not in ['closed', 'locked']\n",
    "\n",
    "def draw_g(g, current_pos=None):\n",
    "    pos = dict(zip(g.nodes, g.nodes))\n",
    "    \n",
    "    labels = {n: get_label(n, data) for n, data in g.nodes.items()}\n",
    "    node_list = []\n",
    "    closed_door_list = []\n",
    "    open_door_list = []\n",
    "    unknown_list = []\n",
    "    current_list = []\n",
    "    for n, data in g.nodes.items():\n",
    "        if is_door(data):\n",
    "            if not door_is_open(data):\n",
    "                closed_door_list.append(n)\n",
    "            else:\n",
    "                open_door_list.append(n)\n",
    "        elif is_unknown(data):\n",
    "            unknown_list.append(n)\n",
    "        elif is_current(data, current_pos):\n",
    "            current_list.append(n)\n",
    "        else:\n",
    "            node_list.append(n)\n",
    "            \n",
    "    print(node_list, closed_door_list, open_door_list)\n",
    "    \n",
    "    if current_list:\n",
    "        nx.draw_networkx_nodes(g, pos=pos, nodelist=current_list, node_size=600, node_color='c')\n",
    "\n",
    "    nx.draw_networkx_nodes(g, pos=pos, nodelist=unknown_list, node_size=400, node_color='darkgrey')\n",
    "    nx.draw_networkx_nodes(g, pos=pos, nodelist=node_list, node_size=400) #nx.draw(g, pos=pos labels=labels, with_labels=True)\n",
    "    nx.draw_networkx_nodes(g, pos=pos, nodelist=closed_door_list, node_color='r', node_size=200) #nx.draw(g, pos=pos labels=labels, with_labels=True)\n",
    "    nx.draw_networkx_nodes(g, pos=pos, nodelist=open_door_list, node_color='g', node_size=200) #nx.draw(g, pos=pos labels=labels, with_labels=True)\n",
    "    nx.draw_networkx_edges(g, pos=pos)\n",
    "    nx.draw_networkx_labels(g,pos,labels, font_size=10)\n",
    "\n",
    "def graph_w_doors(G):\n",
    "    Gd = G.copy()\n",
    "    for ed in G.edges.data():\n",
    "        if ed[2]['has_door']:\n",
    "            x = (ed[0][0] + ed[1][0])/2\n",
    "            y = (ed[0][1] + ed[1][1])/2\n",
    "            Gd.add_node((x,y), name=ed[2]['door_name'], door_state=ed[2]['door_state'])\n",
    "        #print(ed[0],ed[1], ed[2])\n",
    "    return Gd\n",
    "\n",
    "def get_doorinfo(doorentity):  # doorentity is a twutils.symbolic.entity.Door\n",
    "    if doorentity is None:\n",
    "        return '', True\n",
    "    if doorentity.state.openable and not doorentity.state.is_open:\n",
    "        return doorentity.name, False\n",
    "    return doorentity.name, True\n",
    "\n",
    "\n",
    "draw_g(graph_w_doors(g10))\n",
    "\n",
    "nodes = list(g10.nodes)\n",
    "print_shortest_path(g10, nodes[0], nodes[-1])\n"
   ]
  },
  {
   "cell_type": "code",
   "execution_count": null,
   "metadata": {},
   "outputs": [],
   "source": []
  },
  {
   "cell_type": "code",
   "execution_count": 10,
   "metadata": {},
   "outputs": [],
   "source": [
    "from TextWorldUtils import count_iter_items\n",
    "# import itertools\n",
    "# from collections import deque\n",
    "\n",
    "# def count_iter_items(iterable):\n",
    "#     \"\"\"\n",
    "#     Consume an iterable not reading it into memory; return the number of items.\n",
    "#     \"\"\"\n",
    "#     counter = itertools.count()\n",
    "#     deque(zip(iterable, counter), maxlen=0)  # (consume at C speed)\n",
    "#     return next(counter)"
   ]
  },
  {
   "cell_type": "code",
   "execution_count": 11,
   "metadata": {},
   "outputs": [],
   "source": [
    "env_json = TextWorldUtils.load_json('./tw_games/tw-cooking-recipe3+take3+cut+go6-Z7L8CvEPsO53iKDg.json')"
   ]
  },
  {
   "cell_type": "code",
   "execution_count": 12,
   "metadata": {},
   "outputs": [
    {
     "name": "stdout",
     "output_type": "stream",
     "text": [
      "Total training files =  13320\n",
      "number of .json files in /home/guntis/work/github/0_magd3/CodaLab/train = 4440\n",
      "Number of base_names: 4440\n"
     ]
    }
   ],
   "source": [
    "# print(env_json.keys())\n",
    "# for k,val in env_json['grammar'].items():\n",
    "#     print(k,':', val)\n",
    "##\n",
    "## dict_keys(['world', 'grammar', 'quests', 'infos', 'KB', 'metadata', 'objective', 'extras'])\n",
    "## theme : house\n",
    "## names_to_exclude : []\n",
    "## include_adj : False\n",
    "## blend_descriptions : False\n",
    "## ambiguous_instructions : False\n",
    "## only_last_action : False\n",
    "## blend_instructions : False\n",
    "## allowed_variables_numbering : False\n",
    "## unique_expansion : False\n",
    "    \n",
    "training_files = os.listdir(TW_TRAINING_DIR)  #[0:30]\n",
    "# directory contains 3 files per game: *.json, *.ulx, *.z8 \n",
    "print(\"Total training files = \", count_iter_items(training_files))\n",
    "suffixes = ['.json', '.z8', '.ulx']\n",
    "suffix = '.json'\n",
    "game_json_files = list(filter(lambda fname: fname.endswith(suffix), training_files))\n",
    "print(\"number of {} files in {} = {}\".format(suffix, TW_TRAINING_DIR, len(game_json_files)))\n",
    "base_names = [s.split('.')[0] for s in game_json_files]\n",
    "\n",
    "print(\"Number of base_names:\", len(base_names))"
   ]
  },
  {
   "cell_type": "code",
   "execution_count": 13,
   "metadata": {},
   "outputs": [
    {
     "data": {
      "text/plain": [
       "4440"
      ]
     },
     "execution_count": 13,
     "metadata": {},
     "output_type": "execute_result"
    }
   ],
   "source": [
    "len(base_names)"
   ]
  },
  {
   "cell_type": "code",
   "execution_count": 14,
   "metadata": {
    "scrolled": true
   },
   "outputs": [
    {
     "name": "stdout",
     "output_type": "stream",
     "text": [
      "ROOMS:\n",
      "r_0: 'kitchen'\n",
      "r_2: 'livingroom'\n",
      "r_1: 'pantry'\n",
      "r_3: 'bedroom'\n",
      "r_5: 'bathroom'\n",
      "r_4: 'corridor'\n",
      "--------------\n",
      "d_0: 'plain door' [None]\n",
      "c_0: 'fridge' ['conventional']\n",
      "oven_0: 'oven' ['conventional']\n",
      "s_0: 'table' ['massive']\n",
      "s_1: 'counter' ['vast']\n",
      "s_2: 'shelf' ['wooden']\n",
      "s_3: 'sofa' ['comfy']\n",
      "s_4: 'bed' ['large']\n",
      "s_5: 'toilet' ['white']\n",
      "stove_0: 'stove' ['conventional']\n",
      "f_0: 'purple potato' ['']\n",
      "f_1: 'black pepper' ['']\n",
      "f_2: 'parsley' ['']\n",
      "f_3: 'orange bell pepper' ['']\n",
      "f_4: 'red potato' ['']\n",
      "meal_0: 'meal' [None]\n",
      "o_0: 'cookbook' ['interesting']\n",
      "o_1: 'knife' ['sharp']\n",
      "\n",
      "VERBS: ['chop', 'close', 'cook', 'dice', 'drink', 'drop', 'eat', 'examine', 'go', 'insert', 'inventory', 'lock', 'look', 'open', 'prepare', 'put', 'slice', 'take', 'unlock']\n",
      "\n",
      "RECIPE: ---------\n",
      "Gather all following ingredients and follow the directions to prepare this tasty meal.\n",
      "\n",
      "Ingredients:\n",
      "  black pepper\n",
      "  parsley\n",
      "  purple potato\n",
      "\n",
      "Directions:\n",
      "  dice the parsley\n",
      "  slice the purple potato\n",
      "  roast the purple potato\n",
      "  prepare meal\n"
     ]
    }
   ],
   "source": [
    "from TextWorldUtils import print_ids_and_names\n",
    "\n",
    "# # game1.kb\n",
    "# # print(game1.infos.keys()) # keys are object ids\n",
    "# def print_ids_and_names(game):\n",
    "#     entities_infos = filter(_filter_unnamed_and_room_entities, game.infos.values())\n",
    "#     room_infos = filter(_filter_rooms, game.infos.values())\n",
    "#     print(\"ROOMS:\")\n",
    "#     for info in room_infos:\n",
    "#         print(\"{}: '{}'\".format(info.id, info.name ))\n",
    "#     print(\"--------------\")\n",
    "#     for info in entities_infos: #game.infos.values()\n",
    "#         print(\"{}: '{}' [{}]\".format(info.id, info.name, format_adj(info.adj))) #, info.type ))\n",
    "\n",
    "game1 = textworld.generator.Game.load('./tw_games/tw-cooking-recipe3+take3+cut+go6-Z7L8CvEPsO53iKDg.json')\n",
    "print_ids_and_names(game1)\n",
    "print()\n",
    "print(\"VERBS:\", game1.verbs)\n",
    "print()\n",
    "print(\"RECIPE:\", '\\n'.join((game1.infos['o_0'].desc.splitlines())[3:]))"
   ]
  },
  {
   "cell_type": "code",
   "execution_count": null,
   "metadata": {},
   "outputs": [],
   "source": []
  },
  {
   "cell_type": "code",
   "execution_count": null,
   "metadata": {},
   "outputs": [],
   "source": []
  },
  {
   "cell_type": "code",
   "execution_count": 15,
   "metadata": {},
   "outputs": [],
   "source": [
    "game_name = 'tw-cooking-recipe3+take3+cook+cut+open+drop+go6-g7QjTZZPUXqRFk9N'\n",
    "game_name = 'tw-cooking-recipe1+take1+cut+drop-YGy3iyJOCq2DUQo8'\n",
    "\n",
    "obj_infos, game, env = TextWorldUtils.start_game_with_z8map(game_name,\n",
    "                                training_dir=TW_TRAINING_DIR, z8map_dir=Z8_MAP_DIR)\n",
    "# room_data = TextWorldUtils.extract_room_states(obj_infos, game, env)\n",
    "# for r_id in room_data:\n",
    "#     r_name, desc, state = room_data[r_id]\n",
    "#     print('======', r_name, '======')\n",
    "#     print(desc)\n",
    "#     print(\"-------- ------ -------\")\n",
    "#     print(state)\n"
   ]
  },
  {
   "cell_type": "code",
   "execution_count": 16,
   "metadata": {},
   "outputs": [
    {
     "name": "stdout",
     "output_type": "stream",
     "text": [
      "dict_keys(['last_command', 'raw', 'done', 'feedback', 'won', 'lost', 'score', 'location', 'game', 'command_templates', 'verbs', 'entities', 'objective', 'max_score', 'extra.seeds', 'extra.goal', 'extra.ingredients', 'extra.skills', 'extra.entities', 'extra.nb_distractors', 'extra.walkthrough', 'extra.max_score', 'extra.uuid', 'moves'])\n",
      "\n",
      "You are hungry! Let's cook a delicious meal. Check the cookbook in the kitchen for the recipe. Once done, enjoy your meal!\n",
      "['fridge', 'oven', 'table', 'counter', 'stove', 'red hot pepper', 'red potato', 'yellow bell pepper', 'meal', 'cookbook', 'knife', 'north', 'south', 'east', 'west']\n"
     ]
    }
   ],
   "source": [
    "env.reset()\n",
    "gsx,score,done = env.step(\"examine cookbook\")\n",
    "print(gsx.keys())\n",
    "print()\n",
    "print(gsx.objective)\n",
    "print(gsx.entities)"
   ]
  },
  {
   "cell_type": "code",
   "execution_count": 17,
   "metadata": {
    "scrolled": true
   },
   "outputs": [
    {
     "name": "stdout",
     "output_type": "stream",
     "text": [
      "--------------------------- Description: ---------------------------\n",
      " -= Livingroom =-\n",
      "Well how about that, you are in a place we're calling a livingroom. Let's see what's in here.\n",
      "\n",
      "As if things weren't amazing enough already, you can even see a sofa. The sofa is comfy. But there isn't a thing on it.\n",
      "\n",
      "You don't like doors? Why not try going east, that entranceway is not blocked by one. You don't like doors? Why not try going north, that entranceway is not blocked by one.\n",
      "--------------------------- Inventory: ---------------------------\n",
      " You are carrying:\n",
      "  some water\n"
     ]
    }
   ],
   "source": [
    "request_infos = textworld.EnvInfos(\n",
    "    description=True,\n",
    "    feedback=True,\n",
    "    admissible_commands=True,\n",
    "    facts=True,\n",
    "    entities=True,\n",
    "    inventory=True)\n",
    "\n",
    "# gamefile = './games/foo.z8'\n",
    "# gamefile = './games/foo.ulx'\n",
    "# gamefile = './tw_games/tw-cooking-recipe3+take3+cut+go6-Z7L8CvEPsO53iKDg.z8'\n",
    "gamefile = TW_TRAINING_DIR+'/tw-cooking-recipe1+cook+open+go6-pRRxsa5eSpOvSVj3.z8'\n",
    "gamefile = TW_TRAINING_DIR+'/tw-cooking-recipe1+cook+cut+drop+go6-ZgnGIg3Di2rKimM5.ulx'\n",
    "gamefile = TW_TRAINING_DIR+'/tw-cooking-recipe1+cook+cut+open+drop+go6-xEKyIJpqua0Gsm0q.ulx'\n",
    "# gamefile = TW_TRAINING_DIR+'/'+game_name+'.ulx'\n",
    "# gamefile = '/home/guntis/work/0_magd3/qait_private/test_set/existence/random_map/'+\\\n",
    "#                  'game_0b492cf2-c513-11e9-999e-5d5562562a381_config_5_23_120000079_False_120000079.ulx'\n",
    "\n",
    "# env = textworld.start('./tw_games/tw-cooking-'+'recipe3-yx19UYoYhLppIrp6.z8')\n",
    "# env = textworld.start(TW_TRAINING_DIR+'/tw-cooking-recipe2+cut+go12-L0KgSVEBIglZT0nB.z8')\n",
    "# env = textworld.start('./tw_games/tw-cooking-recipe3+take3+cut+go6-Z7L8CvEPsO53iKDg.ulx')\n",
    "# env = textworld.start('./tw_games/tw-cooking-'+'recipe3-yx19UYoYhLppIrp6.ulx') #.z8')\n",
    "env = textworld.start(gamefile, infos=request_infos)\n",
    "# if gamefile.endswith('.ulx'):\n",
    "#     env.enable_extra_info('description')   # enable_extra_info() no longer works in TW.1.3.1\n",
    "#     env.enable_extra_info('inventory')\n",
    "#env.activate_state_tracking()               # activate_state_tracking() no longer works in TW.1.3.1\n",
    "game_state = env.reset()\n",
    "# print(game_state.keys())\n",
    "\n",
    "# print(\"Raw:\", game_state.raw)\n",
    "# print(\"--------------------------- Feedback: ---------------------------\\n\", game_state.feedback)\n",
    "print(\"--------------------------- Description: ---------------------------\\n\",game_state.description)\n",
    "print(\"--------------------------- Inventory: ---------------------------\\n\", game_state.inventory)\n",
    "\n",
    "# textworld.render.visualize(game_state)      # \n"
   ]
  },
  {
   "cell_type": "code",
   "execution_count": 18,
   "metadata": {},
   "outputs": [
    {
     "name": "stdout",
     "output_type": "stream",
     "text": [
      "dict_keys(['feedback', 'raw', 'game', 'command_templates', 'verbs', 'entities', 'objective', 'max_score', 'extra.seeds', 'extra.goal', 'extra.ingredients', 'extra.skills', 'extra.entities', 'extra.nb_distractors', 'extra.walkthrough', 'extra.max_score', 'extra.uuid', 'description', 'inventory', 'score', 'moves', 'won', 'lost', '_game_progression', '_facts', '_winning_policy', 'facts', '_last_action', '_valid_actions', 'admissible_commands'])\n"
     ]
    }
   ],
   "source": [
    "print(game_state.keys())"
   ]
  },
  {
   "cell_type": "code",
   "execution_count": 19,
   "metadata": {},
   "outputs": [
    {
     "name": "stdout",
     "output_type": "stream",
     "text": [
      "at(P, r_2: r)\n",
      "west_of(r_0: r, r_3: r)\n"
     ]
    }
   ],
   "source": [
    "# game_state['_facts'] is included if EnvInfos.admissible_commands=True (even if not .facts=True)\n",
    "print(game_state['_facts'][0])\n",
    "print(game_state['_facts'][-1])"
   ]
  },
  {
   "cell_type": "code",
   "execution_count": 20,
   "metadata": {},
   "outputs": [
    {
     "name": "stdout",
     "output_type": "stream",
     "text": [
      "at(P, livingroom: r)\n",
      "west_of(kitchen: r, corridor: r)\n"
     ]
    }
   ],
   "source": [
    "# game_state['facts'] included iff EnvInfos.facts=True\n",
    "print(game_state['facts'][0])\n",
    "print(game_state['facts'][-1])"
   ]
  },
  {
   "cell_type": "code",
   "execution_count": 21,
   "metadata": {},
   "outputs": [
    {
     "name": "stdout",
     "output_type": "stream",
     "text": [
      "drink :: in(f_0: f, I) & drinkable(f_0: f) & used(slot_0: slot) -> consumed(f_0: f) & free(slot_0: slot)\n",
      "drop :: $at(P, r_2: r) & in(f_0: f, I) & used(slot_0: slot) -> at(f_0: f, r_2: r) & free(slot_0: slot)\n",
      "put :: $at(P, r_2: r) & $at(s_3: s, r_2: r) & in(f_0: f, I) & used(slot_0: slot) -> on(f_0: f, s_3: s) & free(slot_0: slot)\n"
     ]
    }
   ],
   "source": [
    "# game_state['_valid_actions'] is included if EnvInfos.facts=True (even if not EnvInfos.admissible_commands=True)\n",
    "print(game_state['_valid_actions'][0])\n",
    "print(game_state['_valid_actions'][1])\n",
    "print(game_state['_valid_actions'][-1])\n"
   ]
  },
  {
   "cell_type": "code",
   "execution_count": 22,
   "metadata": {},
   "outputs": [
    {
     "name": "stdout",
     "output_type": "stream",
     "text": [
      "drink water\n",
      "drop water\n",
      "put water on sofa\n"
     ]
    }
   ],
   "source": [
    "# game_state['admissible_commands'] included iff EnvInfos.admissible_commands=True\n",
    "print(game_state['admissible_commands'][0])\n",
    "print(game_state['admissible_commands'][1])\n",
    "print(game_state['admissible_commands'][-1])\n"
   ]
  },
  {
   "cell_type": "code",
   "execution_count": 23,
   "metadata": {
    "scrolled": true
   },
   "outputs": [
    {
     "name": "stdout",
     "output_type": "stream",
     "text": [
      "Score 0 Done False\n",
      "Feedback: -= Livingroom =-\n",
      "Well how about that, you are in a place we're calling a livingroom. Let's see what's in here.\n",
      "\n",
      "As if things weren't amazing enough already, you can even see a sofa. The sofa is comfy. But there isn't a thing on it.\n",
      "\n",
      "You don't like doors? Why not try going east, that entranceway is not blocked by one. You don't like doors? Why not try going north, that entranceway is not blocked by one.\n",
      "\n",
      "\n",
      "\n",
      "Inventory: You are carrying:\n",
      "  some water\n"
     ]
    }
   ],
   "source": [
    "gsx,score,done = env.step(\"look\")\n",
    "print(\"Score\", score, \"Done\", done)\n",
    "# print(gsx.raw)\n",
    "print(\"Feedback:\", gsx.feedback)\n",
    "print(\"Inventory:\", gsx.inventory)\n"
   ]
  },
  {
   "cell_type": "code",
   "execution_count": null,
   "metadata": {
    "scrolled": true
   },
   "outputs": [],
   "source": []
  },
  {
   "cell_type": "code",
   "execution_count": 24,
   "metadata": {
    "scrolled": false
   },
   "outputs": [],
   "source": [
    "# gsx,score,done = env.step(\"put carrot on fridge\") #Putting things on the fridge would achieve nothing.\n",
    "# print(\"Score\", score, \"Done\", done)\n",
    "# print(gsx.feedback)\n",
    "# print(gsx.inventory)"
   ]
  },
  {
   "cell_type": "code",
   "execution_count": 25,
   "metadata": {},
   "outputs": [],
   "source": [
    "from twutils.twlogic import print_ids_and_names, print_fact, find_info"
   ]
  },
  {
   "cell_type": "code",
   "execution_count": 26,
   "metadata": {},
   "outputs": [
    {
     "name": "stdout",
     "output_type": "stream",
     "text": [
      "kitchen\n",
      "kitchen r_0 r\n",
      "Info(kitchen: None | None)\n"
     ]
    }
   ],
   "source": [
    "print(game.infos['r_0'].name)\n",
    "info_key = 'kitchen'\n",
    "if info_key in game.infos:\n",
    "    print(game.infos[info_key])\n",
    "entity_infos = [ei for ei in game.infos.values()\n",
    "                if ei.name == info_key or ei.id == info_key]\n",
    "ei = entity_infos[0]\n",
    "print(ei.name, ei.id, ei.type)\n",
    "\n",
    "print(find_info(game, 'r_0'))"
   ]
  },
  {
   "cell_type": "code",
   "execution_count": 27,
   "metadata": {
    "scrolled": true
   },
   "outputs": [
    {
     "name": "stdout",
     "output_type": "stream",
     "text": [
      "-= Livingroom =-\n",
      "Well how about that, you are in a place we're calling a livingroom. Let's see what's in here.\n",
      "\n",
      "As if things weren't amazing enough already, you can even see a sofa. The sofa is comfy. But there isn't a thing on it.\n",
      "\n",
      "You don't like doors? Why not try going east, that entranceway is not blocked by one. You don't like doors? Why not try going north, that entranceway is not blocked by one.\n",
      "\n",
      "\n",
      "\n",
      "\n",
      "----------------------\n",
      "ROOMS:\n",
      "r_0: 'kitchen'\n",
      "r_3: 'corridor'\n",
      "r_4: 'bedroom'\n",
      "r_2: 'livingroom'\n",
      "r_5: 'bathroom'\n",
      "r_1: 'pantry'\n",
      "--------------\n",
      "d_0: 'plain door' [None]\n",
      "c_0: 'fridge' ['conventional']\n",
      "oven_0: 'oven' ['conventional']\n",
      "s_0: 'table' ['massive']\n",
      "s_1: 'counter' ['vast']\n",
      "s_2: 'shelf' ['wooden']\n",
      "s_3: 'sofa' ['comfy']\n",
      "s_4: 'toilet' ['white']\n",
      "s_5: 'bed' ['large']\n",
      "stove_0: 'stove' ['conventional']\n",
      "f_0: 'water' ['']\n",
      "f_2: 'carrot' ['']\n",
      "f_3: 'yellow bell pepper' ['']\n",
      "f_4: 'flour' ['']\n",
      "meal_0: 'meal' [None]\n",
      "f_1: 'olive oil' ['']\n",
      "o_0: 'cookbook' ['interesting']\n",
      "o_1: 'knife' ['sharp']\n",
      "**** IN SCOPE ****\n",
      "cooking_location(kitchen: r, RECIPE)\n",
      "   ......\t...   'kitchen'[r_0] :---cooking_location---: ''[RECIPE]\n",
      "east_of(corridor: r, kitchen: r)\n",
      "   ......\t...   'corridor'[r_3] :---east_of---: 'kitchen'[r_0]\n",
      "free(kitchen: r, corridor: r)\n",
      "   ......\t...   'kitchen'[r_0] :---free---: 'corridor'[r_3]\n",
      "free(kitchen: r, livingroom: r)\n",
      "   ......\t...   'kitchen'[r_0] :---free---: 'livingroom'[r_2]\n",
      "link(kitchen: r, plain door: d, pantry: r)\n",
      "   ......\t...   'kitchen'[r_0] :---link{'plain door'[d_0]}---: 'pantry'[r_1]\n",
      "north_of(kitchen: r, livingroom: r)\n",
      "   ......\t...   'kitchen'[r_0] :---north_of---: 'livingroom'[r_2]\n",
      "north_of(pantry: r, kitchen: r)\n",
      "   ......\t...   'pantry'[r_1] :---north_of---: 'kitchen'[r_0]\n",
      "south_of(kitchen: r, pantry: r)\n",
      "   ......\t...   'kitchen'[r_0] :---south_of---: 'pantry'[r_1]\n",
      "south_of(livingroom: r, kitchen: r)\n",
      "   ......\t...   'livingroom'[r_2] :---south_of---: 'kitchen'[r_0]\n",
      "west_of(kitchen: r, corridor: r)\n",
      "   ......\t...   'kitchen'[r_0] :---west_of---: 'corridor'[r_3]\n",
      "east_of(bedroom: r, livingroom: r)\n",
      "   ......\t...   'bedroom'[r_4] :---east_of---: 'livingroom'[r_2]\n",
      "free(bedroom: r, livingroom: r)\n",
      "   ......\t...   'bedroom'[r_4] :---free---: 'livingroom'[r_2]\n",
      "west_of(livingroom: r, bedroom: r)\n",
      "   ......\t...   'livingroom'[r_2] :---west_of---: 'bedroom'[r_4]\n",
      "at(P, livingroom: r)\n",
      "   ......\t...   'Player'[P] :---at---: 'livingroom'[r_2]\n",
      "at(sofa: s, livingroom: r)\n",
      "   ......\t...   'sofa'[s_3] :---at---: 'livingroom'[r_2]\n",
      "base(water: f, ingredient_0: ingredient)\n",
      "   ......\t...   'water'[f_0] :---base---: ''[ingredient_0]\n",
      "drinkable(water: f)\n",
      "   ......\t...   'water'[f_0] :---drinkable\n",
      "in(water: f, I)\n",
      "   ......\t...   'water'[f_0] :---in---: 'Inventory'[I]\n",
      "inedible(water: f)\n",
      "   ......\t...   'water'[f_0] :---inedible\n",
      "ingredient_1(water: f)\n",
      "   ......\t...   'water'[f_0] :---ingredient_1\n"
     ]
    }
   ],
   "source": [
    "# for f in gsx.state.facts:\n",
    "#     print(f)\n",
    "print(gsx.feedback)\n",
    "print(\"\\n----------------------\")\n",
    "print_ids_and_names(gsx.game)\n",
    "print(\"**** IN SCOPE ****\")\n",
    "world = textworld.generator.World.from_facts(gsx.facts)\n",
    "for f in world.get_facts_in_scope():\n",
    "    print(f, end=\"\\n   ......\\t...   \")\n",
    "    print_fact(gsx.game, f)"
   ]
  },
  {
   "cell_type": "code",
   "execution_count": 28,
   "metadata": {},
   "outputs": [],
   "source": [
    "# print(\"**** IN SCOPE ****\")\n",
    "# world = textworld.generator.World.from_facts(gsx.state.facts)\n",
    "# for f in world.get_facts_in_scope():\n",
    "#     print_fact(f)\n",
    "#world2 = textworld.generator.World.from_facts(world.get_facts_in_scope())\n",
    "# textworld.render.visualize(gsx)\n",
    "# textworld.render.visualize(world2)  # visualize only what player can see"
   ]
  },
  {
   "cell_type": "code",
   "execution_count": 29,
   "metadata": {},
   "outputs": [],
   "source": [
    "from symbolic.knowledge_graph import KnowledgeGraph\n",
    "from symbolic.game import GameInstance\n",
    "from twutils.twlogic import filter_observables, prettyprint_fact"
   ]
  },
  {
   "cell_type": "code",
   "execution_count": 30,
   "metadata": {},
   "outputs": [
    {
     "name": "stdout",
     "output_type": "stream",
     "text": [
      "*********** GROUND TRUTH FACTS *********** \n",
      "visit() DISCOVERED livingroom\n",
      "GT knowledge graph updating player location from <Unknown Location>[] to livingroom\n",
      "\tADDED NEW Object water :in: I\n",
      "Warning: add_attributes_for_predicate used didnt find an entity corresponding to slot_0: slot\n",
      "---------------- update FACTS end -------------------\n",
      "Connection Graph:\n",
      "\n",
      "    outgoing:\n",
      ":[kitchen] --(east)--> :[corridor]\n",
      ":[kitchen] --(south)--> :[livingroom]\n",
      ":[kitchen] --(north:plain door(closed))--> :[pantry]\n",
      ":[corridor] --(west)--> :[kitchen]\n",
      ":[corridor] --(north)--> :[bathroom]\n",
      ":[livingroom] --(east)--> :[bedroom]\n",
      ":[livingroom] --(north)--> :[kitchen]\n",
      ":[bedroom] --(west)--> :[livingroom]\n",
      ":[pantry] --(south:plain door(closed))--> :[kitchen]\n",
      ":[bathroom] --(south)--> :[corridor]\n",
      "\n",
      "    incoming:\n",
      ":[kitchen] --(east)--> :[corridor]\n",
      ":[bathroom] --(south)--> :[corridor]\n",
      ":[corridor] --(west)--> :[kitchen]\n",
      ":[livingroom] --(north)--> :[kitchen]\n",
      ":[pantry] --(south:plain door(closed))--> :[kitchen]\n",
      ":[livingroom] --(east)--> :[bedroom]\n",
      ":[bedroom] --(west)--> :[livingroom]\n",
      ":[kitchen] --(south)--> :[livingroom]\n",
      ":[kitchen] --(north:plain door(closed))--> :[pantry]\n",
      ":[corridor] --(north)--> :[bathroom]\n",
      "\n"
     ]
    }
   ],
   "source": [
    "#print(gsx.facts)\n",
    "gt_kg = KnowledgeGraph(None, groundtruth=True)\n",
    "viz_kg = KnowledgeGraph(None, groundtruth=False)\n",
    "gi = GameInstance(kg=viz_kg, gt=gt_kg)\n",
    "gt_kg.update_facts(game_state.facts)\n",
    "print(gt_kg.connections)"
   ]
  },
  {
   "cell_type": "code",
   "execution_count": 31,
   "metadata": {},
   "outputs": [],
   "source": [
    "\n",
    "PointTuple = namedtuple(\"PointTuple\", \"x y\")\n",
    "class Point(PointTuple):\n",
    "    def as_tuple(self):\n",
    "        return (self.x, self.y)\n",
    "    \n",
    "DELTA_COORDS = {\n",
    "    'east': Point(1, 0),\n",
    "    'west': Point(-1, 0),\n",
    "    'north': Point(0, 1),\n",
    "    'south': Point(0, -1)\n",
    "}\n",
    "def delta_coords(direction):\n",
    "    return \n",
    "\n",
    "def room_graph_from_kg(kg):\n",
    "    cg = kg.connections\n",
    "\n",
    "    room_graph = nx.Graph()\n",
    "\n",
    "    _room_dict = {}\n",
    "\n",
    "#     def _already_visited(name):\n",
    "#         if name in _room_dict and _room_dict[name] is not None:\n",
    "#             return _room_dict[name]\n",
    "#         else:\n",
    "#             return None\n",
    "\n",
    "    def visit_room(name, coords, from_node=None):\n",
    "        prev_coords = _room_dict.get(name, None)\n",
    "        #print(\"visit_room\", name, coords, prev_coords)\n",
    "        if prev_coords is not None:\n",
    "            if coords is not None:\n",
    "                if coords != prev_coords:\n",
    "                    assert name.startswith('Unkn')\n",
    "                    return visit_room(f\"Unkn_{coords.x}_{coords.y}\", coords, from_node=from_node)\n",
    "        if coords is not None:\n",
    "            if prev_coords is None:\n",
    "                _room_dict[name] = coords\n",
    "                label_for_graph = \"Unknown\" if name.startswith(\"Unkn\") else name\n",
    "                room_graph.add_node(coords.as_tuple(), name=label_for_graph)\n",
    "                if from_node is not None:\n",
    "                    room_graph.add_edge(from_node.as_tuple(), coords.as_tuple())\n",
    "                    room_graph[from_node.as_tuple()][coords.as_tuple()]['has_door'] = False\n",
    "    #             print(\"ADDED NODE:\", coords, name)\n",
    "                return True\n",
    "        return False  # no change\n",
    "\n",
    "    current_coords = Point(0, 0)\n",
    "    outgoing_connections = list(cg._out_graph)\n",
    "    visit_room(outgoing_connections[0].name, current_coords)\n",
    "\n",
    "    for loc in outgoing_connections:\n",
    "        visit_room(loc.name, None)\n",
    "\n",
    "    finished = False\n",
    "    while not finished:\n",
    "#         print()\n",
    "        finished = True\n",
    "        for loc in outgoing_connections:\n",
    "            current_coords = _room_dict.get(loc.name, None)\n",
    "            if current_coords is not None:\n",
    "                for con in cg.outgoing(loc):\n",
    "                    doorname, is_open = get_doorinfo(con.doorway)\n",
    "                    door_descr = f\"<{'open' if is_open else 'closed'}>{doorname}\" if doorname else ''\n",
    "                    delta = DELTA_COORDS[con.action.verb]\n",
    "                    new_coords = Point(current_coords.x+delta.x, current_coords.y+delta.y)\n",
    "                    if visit_room(con.to_location.name, new_coords, from_node=current_coords):\n",
    "                        finished = False\n",
    "                        if doorname:\n",
    "                            e = room_graph[current_coords.as_tuple()][new_coords.as_tuple()]\n",
    "                            e['has_door'] = True\n",
    "                            e['door_state'] = 'open' if is_open else 'closed'\n",
    "                            e['door_name'] = doorname\n",
    "#                     print(\"{} {} :{}: {} {}\".format(\"**\" if not finished else \"  \",\n",
    "#                                                         con.from_location,\n",
    "#                                                         con.action.verb, door_descr,\n",
    "#                                                         con.to_location))\n",
    "    return room_graph\n",
    "\n"
   ]
  },
  {
   "cell_type": "code",
   "execution_count": 32,
   "metadata": {},
   "outputs": [
    {
     "name": "stdout",
     "output_type": "stream",
     "text": [
      "[(0, 0), (1, 0), (0, 1), (1, 1), (1, -1)] [(0.0, 0.5)] []\n"
     ]
    },
    {
     "data": {
      "image/png": "[encoded data removed]",
      "text/plain": [
       "<Figure size 432x288 with 1 Axes>"
      ]
     },
     "metadata": {},
     "output_type": "display_data"
    }
   ],
   "source": [
    "draw_g(graph_w_doors(room_graph_from_kg(gt_kg)), current_pos='livingroom')"
   ]
  },
  {
   "cell_type": "code",
   "execution_count": 33,
   "metadata": {},
   "outputs": [],
   "source": [
    "def update_kg(gstate, prev_act=None):\n",
    "    observable_facts, player_room = filter_observables(gstate.facts, verbose=False, game=gstate.game)\n",
    "    print(\"FACTS IN SCOPE:\")\n",
    "    for fact in observable_facts:\n",
    "        prettyprint_fact(fact, game=gstate.game, indent=1)\n",
    "\n",
    "    viz_kg.update_facts(observable_facts, prev_action=prev_act)\n",
    "    print(viz_kg.connections)\n",
    "    return viz_kg, player_room.name"
   ]
  },
  {
   "cell_type": "code",
   "execution_count": 34,
   "metadata": {},
   "outputs": [],
   "source": [
    "# cmd = \"go north\"\n",
    "def step_env(env, cmd, visualize=True):\n",
    "    gsx,score,done = env.step(cmd)\n",
    "    print(\"Score:\", score, \"GAME OVER!\" if done else \"\")\n",
    "    print(\"--------------------------- Feedback: ---------------------------\")\n",
    "    print(gsx.feedback.strip())\n",
    "    print(\"\\n--------------------------- Description: ---------------------------\")\n",
    "    print(gsx.description)\n",
    "    print(\"--------------------------------------------------------------------\")\n",
    "    kg, current_room = update_kg(gsx, prev_act=cmd)\n",
    "    if visualize:\n",
    "        draw_g(graph_w_doors(room_graph_from_kg(kg)), current_pos=current_room)\n",
    "    return kg, current_room"
   ]
  },
  {
   "cell_type": "code",
   "execution_count": 35,
   "metadata": {
    "scrolled": true
   },
   "outputs": [
    {
     "name": "stdout",
     "output_type": "stream",
     "text": [
      "Score: 0 \n",
      "--------------------------- Feedback: ---------------------------\n",
      "-= Livingroom =-\n",
      "Well how about that, you are in a place we're calling a livingroom. Let's see what's in here.\n",
      "\n",
      "As if things weren't amazing enough already, you can even see a sofa. The sofa is comfy. But there isn't a thing on it.\n",
      "\n",
      "You don't like doors? Why not try going east, that entranceway is not blocked by one. You don't like doors? Why not try going north, that entranceway is not blocked by one.\n",
      "\n",
      "--------------------------- Description: ---------------------------\n",
      "-= Livingroom =-\n",
      "Well how about that, you are in a place we're calling a livingroom. Let's see what's in here.\n",
      "\n",
      "As if things weren't amazing enough already, you can even see a sofa. The sofa is comfy. But there isn't a thing on it.\n",
      "\n",
      "You don't like doors? Why not try going east, that entranceway is not blocked by one. You don't like doors? Why not try going north, that entranceway is not blocked by one.\n",
      "--------------------------------------------------------------------\n",
      "at(P, livingroom: r) livingroom: r\n",
      "FACTS IN SCOPE:\n",
      "\t'Player'[P] :---at---: 'livingroom'[r_2]\n",
      "\t'sofa'[s_3] :---at---: 'livingroom'[r_2]\n",
      "\t'water'[f_0] :---in---: 'Inventory'[I]\n",
      "\t'exit_north'[e] :---north_of---: 'livingroom'[r_2]\n",
      "\t'exit_east'[e] :---east_of---: 'livingroom'[r_2]\n",
      "*********** observed FACTS *********** \n",
      "visit() DISCOVERED livingroom\n",
      "Action: <look> CHANGED player location from <Unknown Location>[] to livingroom\n",
      "\tDISCOVERED NEW entity: sofa at livingroom\n",
      "\tADDED NEW Object water :in: I\n",
      "\tDISCOVERED NEW entity: water at Inventory[water]\n",
      "---------------- update FACTS end -------------------\n",
      "Connection Graph:\n",
      "\n",
      "    outgoing:\n",
      ":[livingroom] --(north)--> :[Unknown Location]\n",
      ":[livingroom] --(east)--> :[Unknown Location]\n",
      "\n",
      "    incoming:\n",
      "\n",
      "[] [] []\n"
     ]
    },
    {
     "data": {
      "image/png": "[encoded data removed]",
      "text/plain": [
       "<Figure size 432x288 with 1 Axes>"
      ]
     },
     "metadata": {},
     "output_type": "display_data"
    }
   ],
   "source": [
    "# kg, current_room = update_kg(game_state, prev_act=\"look\")\n",
    "# draw_g(graph_w_doors(room_graph_from_kg(kg)), current_pos=current_room)\n",
    "_kg, current_loc = step_env(env, \"look\")"
   ]
  },
  {
   "cell_type": "code",
   "execution_count": 36,
   "metadata": {},
   "outputs": [
    {
     "name": "stdout",
     "output_type": "stream",
     "text": [
      "Score: 0 \n",
      "--------------------------- Feedback: ---------------------------\n",
      "-= Kitchen =-\n",
      "You've entered a kitchen.\n",
      "\n",
      "You make out a closed fridge. You make out a closed oven in the room. You can make out a table. On the table you see a cookbook. What's that over there? It looks like it's a counter. The counter is vast. On the counter you can make out a knife. You make out a stove. The stove is conventional. However, the stove, like an empty stove, has nothing on it. Hm. Oh well\n",
      "\n",
      "There is a closed plain door leading north. There is an exit to the east. You need an exit without a door? You should try going south.\n",
      "\n",
      "--------------------------- Description: ---------------------------\n",
      "-= Kitchen =-\n",
      "You've entered a kitchen.\n",
      "\n",
      "You make out a closed fridge. You make out a closed oven in the room. You can make out a table. On the table you see a cookbook. What's that over there? It looks like it's a counter. The counter is vast. On the counter you can make out a knife. You make out a stove. The stove is conventional. However, the stove, like an empty stove, has nothing on it. Hm. Oh well\n",
      "\n",
      "There is a closed plain door leading north. There is an exit to the east. You need an exit without a door? You should try going south.\n",
      "--------------------------------------------------------------------\n",
      "at(P, kitchen: r) kitchen: r\n",
      "FACTS IN SCOPE:\n",
      "\t'plain door'[d_0] :---closed\n",
      "\t'Player'[P] :---at---: 'kitchen'[r_0]\n",
      "\t'counter'[s_1] :---at---: 'kitchen'[r_0]\n",
      "\t'fridge'[c_0] :---at---: 'kitchen'[r_0]\n",
      "\t'fridge'[c_0] :---closed\n",
      "\t'oven'[oven_0] :---at---: 'kitchen'[r_0]\n",
      "\t"
     ]
    },
    {
     "name": "stderr",
     "output_type": "stream",
     "text": [
      "WARNING Location.del_entity could not find entity You\n"
     ]
    },
    {
     "name": "stdout",
     "output_type": "stream",
     "text": [
      "'stove'[stove_0] :---at---: 'kitchen'[r_0]\n",
      "\t'table'[s_0] :---at---: 'kitchen'[r_0]\n",
      "\t'knife'[o_1] :---on---: 'counter'[s_1]\n",
      "\t'cookbook'[o_0] :---on---: 'table'[s_0]\n",
      "\t'water'[f_0] :---in---: 'Inventory'[I]\n",
      "\t'exit_south'[e] :---south_of---: 'kitchen'[r_0]\n",
      "\t'exit_east'[e] :---east_of---: 'kitchen'[r_0]\n",
      "\t'plain door'[d_0] :---north_of---: 'kitchen'[r_0]\n",
      "\t'plain door'[d_0] :---north_of---: 'Player'[P]\n",
      "*********** observed FACTS *********** \n",
      "\tDISCOVERED NEW entity: plain door[dirUNK:kitchen *] at kitchen\n",
      "visit() DISCOVERED kitchen\n",
      "Action: <go north> CHANGED player location from livingroom to kitchen\n",
      "\tDISCOVERED NEW entity: counter at kitchen\n",
      "\tDISCOVERED NEW entity: fridge at kitchen\n",
      "\tDISCOVERED NEW entity: oven at kitchen\n",
      "\tDISCOVERED NEW entity: stove at kitchen\n",
      "\tDISCOVERED NEW entity: table at kitchen\n",
      "\tADDED NEW Object knife :on: counter\n",
      "\tADDED NEW Object cookbook :on: table\n",
      "---------------- update FACTS end -------------------\n",
      "Connection Graph:\n",
      "\n",
      "    outgoing:\n",
      ":[livingroom] --(north)--> :[kitchen]\n",
      ":[livingroom] --(east)--> :[Unknown Location]\n",
      ":[kitchen] --(south)--> :[livingroom]\n",
      ":[kitchen] --(east)--> :[Unknown Location]\n",
      ":[kitchen] --(north:plain door(closed))--> :[Unknown Location]\n",
      "\n",
      "    incoming:\n",
      ":[livingroom] --(north)--> :[kitchen]\n",
      ":[kitchen] --(south)--> :[livingroom]\n",
      "\n",
      "[(0, 0)] [(0.0, 1.5)] []\n"
     ]
    },
    {
     "data": {
      "image/png": "[encoded data removed]",
      "text/plain": [
       "<Figure size 432x288 with 1 Axes>"
      ]
     },
     "metadata": {},
     "output_type": "display_data"
    }
   ],
   "source": [
    "_kg, current_loc = step_env(env, \"go north\")"
   ]
  },
  {
   "cell_type": "code",
   "execution_count": 37,
   "metadata": {},
   "outputs": [
    {
     "name": "stdout",
     "output_type": "stream",
     "text": [
      "Score: 0 \n",
      "--------------------------- Feedback: ---------------------------\n",
      "You open plain door.\n",
      "\n",
      "--------------------------- Description: ---------------------------\n",
      "-= Kitchen =-\n",
      "You've entered a kitchen.\n",
      "\n",
      "You make out a closed fridge. You make out a closed oven in the room. You can make out a table. On the table you see a cookbook. What's that over there? It looks like it's a counter. The counter is vast. On the counter you can make out a knife. You make out a stove. The stove is conventional. However, the stove, like an empty stove, has nothing on it. Hm. Oh well\n",
      "\n",
      "There is an open plain door leading north. There is an exit to the east. You need an exit without a door? You should try going south.\n",
      "--------------------------------------------------------------------\n",
      "at(P, kitchen: r) kitchen: r\n",
      "FACTS IN SCOPE:\n",
      "\t'plain door'[d_0] :---open\n",
      "\t'Player'[P] :---at---: 'kitchen'[r_0]\n",
      "\t'counter'[s_1] :---at---: 'kitchen'[r_0]\n",
      "\t'fridge'[c_0] :---at---: 'kitchen'[r_0]\n",
      "\t'fridge'[c_0] :---closed\n",
      "\t'oven'[oven_0] :---at---: 'kitchen'[r_0]\n",
      "\t'stove'[stove_0] :---at---: 'kitchen'[r_0]\n",
      "\t'table'[s_0] :---at---: 'kitchen'[r_0]\n",
      "\t'knife'[o_1] :---on---: 'counter'[s_1]\n",
      "\t'cookbook'[o_0] :---on---: 'table'[s_0]\n",
      "\t'water'[f_0] :---in---: 'Inventory'[I]\n",
      "\t'exit_south'[e] :---south_of---: 'kitchen'[r_0]\n",
      "\t'exit_north'[e] :---north_of---: 'kitchen'[r_0]\n",
      "\t'exit_east'[e] :---east_of---: 'kitchen'[r_0]\n",
      "\t'plain door'[d_0] :---north_of---: 'kitchen'[r_0]\n",
      "\t'plain door'[d_0] :---north_of---: 'Player'[P]\n",
      "*********** observed FACTS *********** \n",
      "---------------- update FACTS end -------------------\n",
      "Connection Graph:\n",
      "\n",
      "    outgoing:\n",
      ":[livingroom] --(north)--> :[kitchen]\n",
      ":[livingroom] --(east)--> :[Unknown Location]\n",
      ":[kitchen] --(south)--> :[livingroom]\n",
      ":[kitchen] --(east)--> :[Unknown Location]\n",
      ":[kitchen] --(north:plain door(open))--> :[Unknown Location]\n",
      "\n",
      "    incoming:\n",
      ":[livingroom] --(north)--> :[kitchen]\n",
      ":[kitchen] --(south)--> :[livingroom]\n",
      "\n",
      "[(0, 0)] [] [(0.0, 1.5)]\n"
     ]
    },
    {
     "data": {
      "image/png": "[encoded data removed]",
      "text/plain": [
       "<Figure size 432x288 with 1 Axes>"
      ]
     },
     "metadata": {},
     "output_type": "display_data"
    }
   ],
   "source": [
    "_kg, current_loc = step_env(env, \"open plain door\")"
   ]
  },
  {
   "cell_type": "code",
   "execution_count": 38,
   "metadata": {},
   "outputs": [],
   "source": [
    "cmd = \"look\""
   ]
  },
  {
   "cell_type": "code",
   "execution_count": 39,
   "metadata": {},
   "outputs": [
    {
     "name": "stdout",
     "output_type": "stream",
     "text": [
      "Score: 0 \n",
      "--------------------------- Feedback: ---------------------------\n",
      "-= Kitchen =-\n",
      "You've entered a kitchen.\n",
      "\n",
      "You make out a closed fridge. You make out a closed oven in the room. You can make out a table. On the table you see a cookbook. What's that over there? It looks like it's a counter. The counter is vast. On the counter you can make out a knife. You make out a stove. The stove is conventional. However, the stove, like an empty stove, has nothing on it. Hm. Oh well\n",
      "\n",
      "There is an open plain door leading north. There is an exit to the east. You need an exit without a door? You should try going south.\n",
      "\n",
      "--------------------------- Description: ---------------------------\n",
      "-= Kitchen =-\n",
      "You've entered a kitchen.\n",
      "\n",
      "You make out a closed fridge. You make out a closed oven in the room. You can make out a table. On the table you see a cookbook. What's that over there? It looks like it's a counter. The counter is vast. On the counter you can make out a knife. You make out a stove. The stove is conventional. However, the stove, like an empty stove, has nothing on it. Hm. Oh well\n",
      "\n",
      "There is an open plain door leading north. There is an exit to the east. You need an exit without a door? You should try going south.\n",
      "--------------------------------------------------------------------\n",
      "at(P, kitchen: r) kitchen: r\n",
      "FACTS IN SCOPE:\n",
      "\t'plain door'[d_0] :---open\n",
      "\t'Player'[P] :---at---: 'kitchen'[r_0]\n",
      "\t'counter'[s_1] :---at---: 'kitchen'[r_0]\n",
      "\t'fridge'[c_0] :---at---: 'kitchen'[r_0]\n",
      "\t'fridge'[c_0] :---closed\n",
      "\t'oven'[oven_0] :---at---: 'kitchen'[r_0]\n",
      "\t'stove'[stove_0] :---at---: 'kitchen'[r_0]\n",
      "\t'table'[s_0] :---at---: 'kitchen'[r_0]\n",
      "\t'knife'[o_1] :---on---: 'counter'[s_1]\n",
      "\t'cookbook'[o_0] :---on---: 'table'[s_0]\n",
      "\t'water'[f_0] :---in---: 'Inventory'[I]\n",
      "\t'exit_south'[e] :---south_of---: 'kitchen'[r_0]\n",
      "\t'exit_north'[e] :---north_of---: 'kitchen'[r_0]\n",
      "\t'exit_east'[e] :---east_of---: 'kitchen'[r_0]\n",
      "\t'plain door'[d_0] :---north_of---: 'kitchen'[r_0]\n",
      "\t'plain door'[d_0] :---north_of---: 'Player'[P]\n",
      "*********** observed FACTS *********** \n",
      "---------------- update FACTS end -------------------\n",
      "Connection Graph:\n",
      "\n",
      "    outgoing:\n",
      ":[livingroom] --(north)--> :[kitchen]\n",
      ":[livingroom] --(east)--> :[Unknown Location]\n",
      ":[kitchen] --(south)--> :[livingroom]\n",
      ":[kitchen] --(east)--> :[Unknown Location]\n",
      ":[kitchen] --(north:plain door(open))--> :[Unknown Location]\n",
      "\n",
      "    incoming:\n",
      ":[livingroom] --(north)--> :[kitchen]\n",
      ":[kitchen] --(south)--> :[livingroom]\n",
      "\n",
      "[(0, 0)] [] [(0.0, 1.5)]\n"
     ]
    },
    {
     "data": {
      "image/png": "[encoded data removed]",
      "text/plain": [
       "<Figure size 432x288 with 1 Axes>"
      ]
     },
     "metadata": {},
     "output_type": "display_data"
    }
   ],
   "source": [
    "_kg, current_loc = step_env(env, cmd)"
   ]
  },
  {
   "cell_type": "code",
   "execution_count": 40,
   "metadata": {},
   "outputs": [
    {
     "name": "stdout",
     "output_type": "stream",
     "text": [
      "go south\n"
     ]
    }
   ],
   "source": [
    "# cmd = \"go north\"\n",
    "cmd = \"go south\"\n",
    "# cmd = \"go east\"\n",
    "# cmd = \"go west\"\n",
    "# cmd = \"open door\"\n",
    "# cmd = \"look\"\n",
    "print(cmd)"
   ]
  },
  {
   "cell_type": "code",
   "execution_count": 41,
   "metadata": {},
   "outputs": [
    {
     "data": {
      "text/html": [
       "<script> </script> <form action=\"javascript:IPython.notebook.execute_cell_range(IPython.notebook.get_selected_index()-2, IPython.notebook.get_selected_index()-1)\"><input type=\"submit\" id=\"toggleButton\" value=\"Step( cmd )\"></form>"
      ],
      "text/plain": [
       "<IPython.core.display.HTML object>"
      ]
     },
     "execution_count": 41,
     "metadata": {},
     "output_type": "execute_result"
    }
   ],
   "source": [
    "\n",
    "from IPython.core.display import HTML\n",
    "HTML('''<script> </script> <form action=\"javascript:IPython.notebook.execute_cell_range(IPython.notebook.get_selected_index()-2, IPython.notebook.get_selected_index()-1)\"><input type=\"submit\" id=\"toggleButton\" value=\"Step( cmd )\"></form>''')"
   ]
  },
  {
   "cell_type": "code",
   "execution_count": 42,
   "metadata": {},
   "outputs": [
    {
     "name": "stderr",
     "output_type": "stream",
     "text": [
      "WARNING Location.del_entity could not find entity You\n"
     ]
    },
    {
     "name": "stdout",
     "output_type": "stream",
     "text": [
      "Score: 0 \n",
      "--------------------------- Feedback: ---------------------------\n",
      "-= Livingroom =-\n",
      "Well how about that, you are in a place we're calling a livingroom. Let's see what's in here.\n",
      "\n",
      "As if things weren't amazing enough already, you can even see a sofa. The sofa is comfy. But there isn't a thing on it.\n",
      "\n",
      "You don't like doors? Why not try going east, that entranceway is not blocked by one. You don't like doors? Why not try going north, that entranceway is not blocked by one.\n",
      "\n",
      "--------------------------- Description: ---------------------------\n",
      "-= Livingroom =-\n",
      "Well how about that, you are in a place we're calling a livingroom. Let's see what's in here.\n",
      "\n",
      "As if things weren't amazing enough already, you can even see a sofa. The sofa is comfy. But there isn't a thing on it.\n",
      "\n",
      "You don't like doors? Why not try going east, that entranceway is not blocked by one. You don't like doors? Why not try going north, that entranceway is not blocked by one.\n",
      "--------------------------------------------------------------------\n",
      "at(P, livingroom: r) livingroom: r\n",
      "FACTS IN SCOPE:\n",
      "\t'Player'[P] :---at---: 'livingroom'[r_2]\n",
      "\t'sofa'[s_3] :---at---: 'livingroom'[r_2]\n",
      "\t'water'[f_0] :---in---: 'Inventory'[I]\n",
      "\t'exit_north'[e] :---north_of---: 'livingroom'[r_2]\n",
      "\t'exit_east'[e] :---east_of---: 'livingroom'[r_2]\n",
      "*********** observed FACTS *********** \n",
      "Action: <go south> CHANGED player location from kitchen to livingroom\n",
      "---------------- update FACTS end -------------------\n",
      "Connection Graph:\n",
      "\n",
      "    outgoing:\n",
      ":[livingroom] --(north)--> :[kitchen]\n",
      ":[livingroom] --(east)--> :[Unknown Location]\n",
      ":[kitchen] --(south)--> :[livingroom]\n",
      ":[kitchen] --(east)--> :[Unknown Location]\n",
      ":[kitchen] --(north:plain door(open))--> :[Unknown Location]\n",
      "\n",
      "    incoming:\n",
      ":[livingroom] --(north)--> :[kitchen]\n",
      ":[kitchen] --(south)--> :[livingroom]\n",
      "\n",
      "[(0, 1)] [] [(0.0, 1.5)]\n"
     ]
    },
    {
     "data": {
      "image/png": "[encoded data removed]",
      "text/plain": [
       "<Figure size 432x288 with 1 Axes>"
      ]
     },
     "metadata": {},
     "output_type": "display_data"
    }
   ],
   "source": [
    "_kg, current_loc = step_env(env, cmd)"
   ]
  },
  {
   "cell_type": "code",
   "execution_count": 43,
   "metadata": {},
   "outputs": [
    {
     "name": "stdout",
     "output_type": "stream",
     "text": [
      "objective: You are hungry! Let's cook a delicious meal. Check the cookbook in the kitchen for the recipe. Once done, enjoy your meal!\n",
      "\n",
      "verbs: ['chop', 'close', 'cook', 'dice', 'drink', 'drop', 'eat', 'examine', 'go', 'insert', 'inventory', 'lock', 'look', 'open', 'prepare', 'put', 'slice', 'take', 'unlock']\n",
      "\n",
      "[('plain door', 'd'), ('fridge', 'c'), ('oven', 'oven'), ('table', 's'), ('counter', 's'), ('shelf', 's'), ('sofa', 's'), ('bed', 's'), ('toilet', 's'), ('stove', 'stove'), ('purple potato', 'f'), ('black pepper', 'f'), ('parsley', 'f'), ('orange bell pepper', 'f'), ('red potato', 'f'), ('meal', 'meal'), ('cookbook', 'o'), ('knife', 'o')]\n",
      "\n",
      "ROOMS:\n",
      "r_0: 'kitchen'\n",
      "r_2: 'livingroom'\n",
      "r_1: 'pantry'\n",
      "r_3: 'bedroom'\n",
      "r_5: 'bathroom'\n",
      "r_4: 'corridor'\n",
      "--------------\n",
      "d_0: 'plain door' [None]\n",
      "c_0: 'fridge' ['conventional']\n",
      "oven_0: 'oven' ['conventional']\n",
      "s_0: 'table' ['massive']\n",
      "s_1: 'counter' ['vast']\n",
      "s_2: 'shelf' ['wooden']\n",
      "s_3: 'sofa' ['comfy']\n",
      "s_4: 'bed' ['large']\n",
      "s_5: 'toilet' ['white']\n",
      "stove_0: 'stove' ['conventional']\n",
      "f_0: 'purple potato' ['']\n",
      "f_1: 'black pepper' ['']\n",
      "f_2: 'parsley' ['']\n",
      "f_3: 'orange bell pepper' ['']\n",
      "f_4: 'red potato' ['']\n",
      "meal_0: 'meal' [None]\n",
      "o_0: 'cookbook' ['interesting']\n",
      "o_1: 'knife' ['sharp']\n",
      "\n",
      "-----facts------\n",
      "  'Player'[P] :at: 'bathroom'[r_5]\n",
      "  'fridge'[c_0] :at: 'kitchen'[r_0]\n",
      "  'oven'[oven_0] :at: 'kitchen'[r_0]\n",
      "  'table'[s_0] :at: 'kitchen'[r_0]\n",
      "  'counter'[s_1] :at: 'kitchen'[r_0]\n",
      "  'shelf'[s_2] :at: 'pantry'[r_1]\n",
      "  'sofa'[s_3] :at: 'livingroom'[r_2]\n",
      "  'bed'[s_4] :at: 'bedroom'[r_3]\n",
      "  'toilet'[s_5] :at: 'bathroom'[r_5]\n",
      "  'stove'[stove_0] :at: 'kitchen'[r_0]\n",
      "  'purple potato'[f_0] :base: ''[ingredient_2]\n",
      "  'black pepper'[f_1] :base: ''[ingredient_0]\n",
      "  'parsley'[f_2] :base: ''[ingredient_1]\n",
      "  'purple potato'[f_0] :cookable:\n",
      "  'orange bell pepper'[f_3] :cookable:\n",
      "  'red potato'[f_4] :cookable:\n",
      "  'purple potato'[f_0] :cooked:\n",
      "  'black pepper'[f_1] :cooked:\n",
      "  'parsley'[f_2] :cooked:\n",
      "  'kitchen'[r_0] :cooking_location: ''[RECIPE]\n",
      "  'purple potato'[f_0] :cuttable:\n",
      "  'parsley'[f_2] :cuttable:\n",
      "  'orange bell pepper'[f_3] :cuttable:\n",
      "  'red potato'[f_4] :cuttable:\n",
      "  ''[ingredient_1] :diced:\n",
      "  'kitchen'[r_0] :east_of: 'livingroom'[r_2]\n",
      "  'pantry'[r_1] :east_of: 'kitchen'[r_0]\n",
      "  'livingroom'[r_2] :east_of: 'bedroom'[r_3]\n",
      "  'bathroom'[r_5] :east_of: 'corridor'[r_4]\n",
      "  'purple potato'[f_0] :edible:\n",
      "  'black pepper'[f_1] :edible:\n",
      "  'parsley'[f_2] :edible:\n",
      "  'orange bell pepper'[f_3] :edible:\n",
      "  'meal'[meal_0] :edible:\n",
      "  'kitchen'[r_0] :free: 'pantry'[r_1]\n",
      "  'kitchen'[r_0] :free: 'livingroom'[r_2]\n",
      "  'pantry'[r_1] :free: 'kitchen'[r_0]\n",
      "  'livingroom'[r_2] :free: 'kitchen'[r_0]\n",
      "  'livingroom'[r_2] :free: 'bedroom'[r_3]\n",
      "  'livingroom'[r_2] :free: 'corridor'[r_4]\n",
      "  'bedroom'[r_3] :free: 'livingroom'[r_2]\n",
      "  'corridor'[r_4] :free: 'livingroom'[r_2]\n",
      "  'corridor'[r_4] :free: 'bathroom'[r_5]\n",
      "  'bathroom'[r_5] :free: 'corridor'[r_4]\n",
      "  ''[slot_0] :free:\n",
      "  ''[slot_1] :free:\n",
      "  ''[slot_2] :free:\n",
      "  ''[slot_3] :free:\n",
      "  ''[slot_4] :free:\n",
      "  ''[slot_5] :free:\n",
      "  ''[slot_6] :free:\n",
      "  ''[slot_7] :free:\n",
      "  ''[slot_8] :free:\n",
      "  ''[slot_9] :free:\n",
      "  'parsley'[f_2] :in: 'fridge'[c_0]\n",
      "  ''[ingredient_0] :in: ''[RECIPE]\n",
      "  ''[ingredient_1] :in: ''[RECIPE]\n",
      "  ''[ingredient_2] :in: ''[RECIPE]\n",
      "  'red potato'[f_4] :inedible:\n",
      "  'black pepper'[f_1] :ingredient_1:\n",
      "  'parsley'[f_2] :ingredient_2:\n",
      "  'purple potato'[f_0] :ingredient_3:\n",
      "  'kitchen'[r_0] :link: 'plain door'[d_0] 'pantry'[r_1]\n",
      "  'pantry'[r_1] :link: 'plain door'[d_0] 'kitchen'[r_0]\n",
      "  'red potato'[f_4] :needs_cooking:\n",
      "  'corridor'[r_4] :north_of: 'livingroom'[r_2]\n",
      "  'purple potato'[f_0] :on: 'counter'[s_1]\n",
      "  'black pepper'[f_1] :on: 'shelf'[s_2]\n",
      "  'orange bell pepper'[f_3] :on: 'shelf'[s_2]\n",
      "  'red potato'[f_4] :on: 'counter'[s_1]\n",
      "  'cookbook'[o_0] :on: 'table'[s_0]\n",
      "  'knife'[o_1] :on: 'counter'[s_1]\n",
      "  'fridge'[c_0] :open:\n",
      "  'plain door'[d_0] :open:\n",
      "  'meal'[meal_0] :out: ''[RECIPE]\n",
      "  'orange bell pepper'[f_3] :raw:\n",
      "  ''[ingredient_0] :raw:\n",
      "  ''[ingredient_1] :raw:\n",
      "  'purple potato'[f_0] :roasted:\n",
      "  ''[ingredient_2] :roasted:\n",
      "  'knife'[o_1] :sharp:\n",
      "  ''[ingredient_2] :sliced:\n",
      "  'livingroom'[r_2] :south_of: 'corridor'[r_4]\n",
      "  'purple potato'[f_0] :uncut:\n",
      "  'parsley'[f_2] :uncut:\n",
      "  'orange bell pepper'[f_3] :uncut:\n",
      "  'red potato'[f_4] :uncut:\n",
      "  ''[ingredient_0] :uncut:\n",
      "  'kitchen'[r_0] :west_of: 'pantry'[r_1]\n",
      "  'livingroom'[r_2] :west_of: 'kitchen'[r_0]\n",
      "  'bedroom'[r_3] :west_of: 'livingroom'[r_2]\n",
      "  'corridor'[r_4] :west_of: 'bathroom'[r_5]\n"
     ]
    }
   ],
   "source": [
    "\n",
    "game1_name = 'tw-cooking-recipe3+take3+cut+go6-Z7L8CvEPsO53iKDg'\n",
    "game1 = textworld.generator.Game.load('./tw_games/{}.json'.format(game1_name))\n",
    "\n",
    "TextWorldUtils.print_game_info(game1)\n",
    "# textworld.render.visualize(game1)"
   ]
  },
  {
   "cell_type": "code",
   "execution_count": null,
   "metadata": {},
   "outputs": [],
   "source": []
  },
  {
   "cell_type": "code",
   "execution_count": null,
   "metadata": {},
   "outputs": [],
   "source": []
  },
  {
   "cell_type": "code",
   "execution_count": null,
   "metadata": {},
   "outputs": [],
   "source": []
  },
  {
   "cell_type": "code",
   "execution_count": null,
   "metadata": {},
   "outputs": [],
   "source": []
  },
  {
   "cell_type": "code",
   "execution_count": null,
   "metadata": {},
   "outputs": [],
   "source": []
  },
  {
   "cell_type": "code",
   "execution_count": null,
   "metadata": {},
   "outputs": [],
   "source": []
  },
  {
   "cell_type": "code",
   "execution_count": null,
   "metadata": {},
   "outputs": [],
   "source": []
  },
  {
   "cell_type": "code",
   "execution_count": null,
   "metadata": {},
   "outputs": [],
   "source": []
  },
  {
   "cell_type": "code",
   "execution_count": null,
   "metadata": {},
   "outputs": [],
   "source": []
  },
  {
   "cell_type": "code",
   "execution_count": null,
   "metadata": {},
   "outputs": [],
   "source": []
  },
  {
   "cell_type": "code",
   "execution_count": null,
   "metadata": {},
   "outputs": [],
   "source": []
  },
  {
   "cell_type": "code",
   "execution_count": 44,
   "metadata": {},
   "outputs": [
    {
     "name": "stdout",
     "output_type": "stream",
     "text": [
      "-=STATE START=-\n",
      "Room: \n",
      " livingroom\n",
      "\n",
      "World: \n",
      "  kitchen\n",
      "  corridor\n",
      "  bedroom\n",
      "  livingroom\n",
      "  bathroom\n",
      "  pantry\n",
      "kitchen:\n",
      "  plain door (open)\n",
      "  a fridge (closed)\n",
      "    a carrot\n",
      "    a yellow bell pepper\n",
      "  an oven (closed)\n",
      "  a table\n",
      "    a cookbook\n",
      "  a counter\n",
      "    a knife\n",
      "  a stove\n",
      "corridor:\n",
      "  nothing\n",
      "bedroom:\n",
      "  a bed\n",
      "livingroom:\n",
      "  yourself\n",
      "    some water\n",
      "  a sofa\n",
      "bathroom:\n",
      "  a toilet\n",
      "pantry:\n",
      "  a shelf\n",
      "    a flour\n",
      "    some olive oil\n",
      "\n",
      "Inventory:\n",
      "  some water\n",
      "\n",
      "Nowhere:\n",
      "  \n",
      "  water\n",
      "  meal (eaten)\n",
      "  \n",
      "  \n",
      "  EndOfObject\n",
      "\n",
      "\n",
      "Score:\n",
      " 0/2\n",
      "\n",
      "Objective:\n",
      " You are hungry! Let's cook a delicious meal. Check the cookbook in the kitchen for the recipe. Once done, enjoy your meal!\n",
      "\n",
      "Inventory description:\n",
      "  You are carrying: some water.\n",
      "\n",
      "Room description:\n",
      "\n",
      "-= Livingroom =-\n",
      "Well how about that, you are in a place we're calling a livingroom. Let's see what's in here.\n",
      "\n",
      "As if things weren't amazing enough already, you can even see a sofa. The sofa is comfy. But there isn't a thing on it.\n",
      "\n",
      "You don't like doors? Why not try going east, that entranceway is not blocked by one. You don't like doors? Why not try going north, that entranceway is not blocked by one.\n",
      "\n",
      "\n",
      "\n",
      "-=STATE STOP=-\n",
      "\n",
      "\n"
     ]
    }
   ],
   "source": [
    "gs,_,_ = env.step(\"print_state\")\n",
    "# print(gs.description)\n",
    "print(gs.feedback)"
   ]
  },
  {
   "cell_type": "code",
   "execution_count": null,
   "metadata": {},
   "outputs": [],
   "source": []
  },
  {
   "cell_type": "code",
   "execution_count": 45,
   "metadata": {},
   "outputs": [],
   "source": [
    "# special commands:\n",
    "# gs,_,_ = env.step(\"tw-print player id\")\n",
    "# print(\"player id:\", gs.feedback)\n",
    "# gs,_,_ = env.step(\"tw-print EndOfObject id\")\n",
    "# print(\"EndOfObject id:\", gs.feedback)\n",
    "\n",
    "### OUTPUT:\n",
    "## player id: 609753\n",
    "##\n",
    "## EndOfObject id: 610233"
   ]
  },
  {
   "cell_type": "code",
   "execution_count": 46,
   "metadata": {},
   "outputs": [],
   "source": [
    "# # print state option: invokes \"print_state\" on every env step\n",
    "# gs,_,_ = env.step(\"enable print state option\")\n",
    "# # print(gs.feedback)\n",
    "# gs2,_,_ = env.step(\"go south\")\n",
    "# print(gs2.feedback)\n",
    "# gs,_,_ = env.step(\"disable print state option\")\n",
    "# print(gs.feedback)"
   ]
  },
  {
   "cell_type": "markdown",
   "metadata": {},
   "source": [
    "# Try textworld.gym"
   ]
  },
  {
   "cell_type": "code",
   "execution_count": 47,
   "metadata": {},
   "outputs": [],
   "source": [
    "request_infos = textworld.EnvInfos(admissible_commands=True, entities=True, facts=True)"
   ]
  },
  {
   "cell_type": "code",
   "execution_count": 48,
   "metadata": {},
   "outputs": [],
   "source": [
    "import textworld.gym\n",
    "import gym\n"
   ]
  },
  {
   "cell_type": "code",
   "execution_count": 49,
   "metadata": {},
   "outputs": [],
   "source": [
    "# env2.close()"
   ]
  },
  {
   "cell_type": "code",
   "execution_count": 50,
   "metadata": {},
   "outputs": [],
   "source": [
    "# Requesting additional information should be done when registering the game.\n",
    "env_id = textworld.gym.register_game('./tw_games/tw-cooking-'+'recipe3-yx19UYoYhLppIrp6.ulx', request_infos)\n",
    "env2 = gym.make(env_id)\n"
   ]
  },
  {
   "cell_type": "code",
   "execution_count": 51,
   "metadata": {},
   "outputs": [],
   "source": [
    "obs,infos = env2.reset()"
   ]
  },
  {
   "cell_type": "code",
   "execution_count": 52,
   "metadata": {},
   "outputs": [
    {
     "name": "stdout",
     "output_type": "stream",
     "text": [
      "\n",
      "\n",
      "\n",
      "                    ________  ________  __    __  ________        \n",
      "                   |        \\|        \\|  \\  |  \\|        \\       \n",
      "                    \\$$$$$$$$| $$$$$$$$| $$  | $$ \\$$$$$$$$       \n",
      "                      | $$   | $$__     \\$$\\/  $$   | $$          \n",
      "                      | $$   | $$  \\     >$$  $$    | $$          \n",
      "                      | $$   | $$$$$    /  $$$$\\    | $$          \n",
      "                      | $$   | $$_____ |  $$ \\$$\\   | $$          \n",
      "                      | $$   | $$     \\| $$  | $$   | $$          \n",
      "                       \\$$    \\$$$$$$$$ \\$$   \\$$    \\$$          \n",
      "              __       __   ______   _______   __        _______  \n",
      "             |  \\  _  |  \\ /      \\ |       \\ |  \\      |       \\ \n",
      "             | $$ / \\ | $$|  $$$$$$\\| $$$$$$$\\| $$      | $$$$$$$\\\n",
      "             | $$/  $\\| $$| $$  | $$| $$__| $$| $$      | $$  | $$\n",
      "             | $$  $$$\\ $$| $$  | $$| $$    $$| $$      | $$  | $$\n",
      "             | $$ $$\\$$\\$$| $$  | $$| $$$$$$$\\| $$      | $$  | $$\n",
      "             | $$$$  \\$$$$| $$__/ $$| $$  | $$| $$_____ | $$__/ $$\n",
      "             | $$$    \\$$$ \\$$    $$| $$  | $$| $$     \\| $$    $$\n",
      "              \\$$      \\$$  \\$$$$$$  \\$$   \\$$ \\$$$$$$$$ \\$$$$$$$ \n",
      "\n",
      "You are hungry! Let's cook a delicious meal. Check the cookbook in the kitchen for the recipe. Once done, enjoy your meal!\n",
      "\n",
      "-= Kitchen =-\n",
      "You find yourself in a kitchen. A standard one.\n",
      "\n",
      "You can see a fridge. The fridge contains a carrot, a block of cheese and a cilantro. As if things weren't amazing enough already, you can even see an oven. You can see a table. The table is massive. On the table you see a cookbook. You make out a counter. The counter is vast. On the counter you can make out a raw purple potato and a red hot pepper. You make out a stove. But the thing is empty.\n",
      "\n",
      "\n",
      "\n"
     ]
    }
   ],
   "source": [
    "print(obs)"
   ]
  },
  {
   "cell_type": "code",
   "execution_count": 53,
   "metadata": {
    "scrolled": true
   },
   "outputs": [],
   "source": [
    "# show_graph(infos['facts'])\n"
   ]
  },
  {
   "cell_type": "code",
   "execution_count": 54,
   "metadata": {},
   "outputs": [
    {
     "name": "stdout",
     "output_type": "stream",
     "text": [
      "-= Kitchen =-\n",
      "You find yourself in a kitchen. A standard one.\n",
      "\n",
      "You can see a fridge. The fridge contains a carrot, a block of cheese and a cilantro. As if things weren't amazing enough already, you can even see an oven. You can see a table. The table is massive. On the table you see a cookbook. You make out a counter. The counter is vast. On the counter you can make out a raw purple potato and a red hot pepper. You make out a stove. But the thing is empty.\n",
      "\n",
      "\n",
      "\n",
      "\n",
      "\n"
     ]
    }
   ],
   "source": [
    "gs2,score,done,infos = env2.step(\"look\")\n",
    "print(gs2)"
   ]
  },
  {
   "cell_type": "code",
   "execution_count": 55,
   "metadata": {},
   "outputs": [
    {
     "name": "stdout",
     "output_type": "stream",
     "text": [
      "dict_keys(['entities', 'admissible_commands', 'facts'])\n"
     ]
    }
   ],
   "source": [
    "print(infos.keys())"
   ]
  },
  {
   "cell_type": "code",
   "execution_count": null,
   "metadata": {},
   "outputs": [],
   "source": []
  }
 ],
 "metadata": {
  "kernelspec": {
   "display_name": "Python 3",
   "language": "python",
   "name": "python3"
  },
  "language_info": {
   "codemirror_mode": {
    "name": "ipython",
    "version": 3
   },
   "file_extension": ".py",
   "mimetype": "text/x-python",
   "name": "python",
   "nbconvert_exporter": "python",
   "pygments_lexer": "ipython3",
   "version": "3.8.2"
  }
 },
 "nbformat": 4,
 "nbformat_minor": 2
}
